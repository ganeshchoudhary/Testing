{
 "cells": [
  {
   "cell_type": "code",
   "execution_count": 1,
   "metadata": {},
   "outputs": [],
   "source": [
    "import pandas as pd\n",
    "df = pd.read_csv(\"training_dataset.csv\")"
   ]
  },
  {
   "cell_type": "code",
   "execution_count": 2,
   "metadata": {},
   "outputs": [],
   "source": [
    "import numpy as np"
   ]
  },
  {
   "cell_type": "code",
   "execution_count": 3,
   "metadata": {},
   "outputs": [],
   "source": [
    "import matplotlib as plt"
   ]
  },
  {
   "cell_type": "code",
   "execution_count": 4,
   "metadata": {},
   "outputs": [
    {
     "name": "stdout",
     "output_type": "stream",
     "text": [
      "/bin/sh: 1: %pip3: not found\r\n"
     ]
    }
   ],
   "source": [
    "!%pip3 sklearn\n"
   ]
  },
  {
   "cell_type": "code",
   "execution_count": 5,
   "metadata": {},
   "outputs": [
    {
     "name": "stdout",
     "output_type": "stream",
     "text": [
      "pip 19.3.1 from /home/ganesh_singh/.local/lib/python3.6/site-packages/pip (python 3.6)\r\n"
     ]
    }
   ],
   "source": [
    "!pip3 --version\n"
   ]
  },
  {
   "cell_type": "code",
   "execution_count": 6,
   "metadata": {},
   "outputs": [
    {
     "name": "stdout",
     "output_type": "stream",
     "text": [
      "Requirement already up-to-date: scikit-learn in /usr/local/lib/python3.6/dist-packages (0.23.2)\n",
      "Requirement already satisfied, skipping upgrade: scipy>=0.19.1 in /usr/local/lib/python3.6/dist-packages (from scikit-learn) (1.5.2)\n",
      "Requirement already satisfied, skipping upgrade: joblib>=0.11 in /usr/local/lib/python3.6/dist-packages (from scikit-learn) (0.16.0)\n",
      "Requirement already satisfied, skipping upgrade: numpy>=1.13.3 in /home/ganesh_singh/.local/lib/python3.6/site-packages (from scikit-learn) (1.16.4)\n",
      "Requirement already satisfied, skipping upgrade: threadpoolctl>=2.0.0 in /usr/local/lib/python3.6/dist-packages (from scikit-learn) (2.1.0)\n",
      "\u001b[33mWARNING: You are using pip version 19.3.1; however, version 20.2.4 is available.\n",
      "You should consider upgrading via the 'pip install --upgrade pip' command.\u001b[0m\n"
     ]
    }
   ],
   "source": [
    "!pip3 install -U scikit-learn"
   ]
  },
  {
   "cell_type": "code",
   "execution_count": 7,
   "metadata": {},
   "outputs": [
    {
     "name": "stdout",
     "output_type": "stream",
     "text": [
      "Requirement already satisfied: scikit-learn in /usr/local/lib/python3.6/dist-packages (0.23.2)\n",
      "Requirement already satisfied: numpy>=1.13.3 in /home/ganesh_singh/.local/lib/python3.6/site-packages (from scikit-learn) (1.16.4)\n",
      "Requirement already satisfied: joblib>=0.11 in /usr/local/lib/python3.6/dist-packages (from scikit-learn) (0.16.0)\n",
      "Requirement already satisfied: scipy>=0.19.1 in /usr/local/lib/python3.6/dist-packages (from scikit-learn) (1.5.2)\n",
      "Requirement already satisfied: threadpoolctl>=2.0.0 in /usr/local/lib/python3.6/dist-packages (from scikit-learn) (2.1.0)\n",
      "\u001b[33mWARNING: You are using pip version 19.3.1; however, version 20.2.4 is available.\n",
      "You should consider upgrading via the 'pip install --upgrade pip' command.\u001b[0m\n"
     ]
    }
   ],
   "source": [
    "!pip3 install scikit-learn"
   ]
  },
  {
   "cell_type": "code",
   "execution_count": 31,
   "metadata": {},
   "outputs": [
    {
     "name": "stdout",
     "output_type": "stream",
     "text": [
      "sklearn-pandas (2.0.0)                       - Pandas integration with sklearn\r\n",
      "sklearn-xarray (0.4.0)                       - xarray integration with sklearn\r\n",
      "sklearn-ex (0.0.1)                           - self defined functions for\r\n",
      "                                               sklearn\r\n",
      "sklearn-export (0.0.5)                       - Export sklearn models to Json.\r\n",
      "easy-sklearn (0.1.5)                         - This is a python library base\r\n",
      "                                               on sklearn\r\n",
      "sklearn-fracdiff (0.1.0)                     - sklearn wrapper for numpy-\r\n",
      "                                               fracdiff\r\n",
      "nbsvm-sklearn (0.0.6)                        - sklearn wrapper for NB-SVM\r\n",
      "                                               algorithm\r\n",
      "sklearn-recommender (0.1.5)                  - Sklearn Extension to\r\n",
      "                                               integration recommender\r\n",
      "                                               functions\r\n",
      "sklearn-surrogatesearchcv (0.1.3)            - Surrogate adaptive randomized\r\n",
      "                                               search for hyper parametersin\r\n",
      "                                               sklearn.\r\n",
      "sklearn-glvq (1.0.3)                         - sklearn compatible Generalized\r\n",
      "                                               Learning Vector Quantization\r\n",
      "                                               implementation\r\n",
      "sklearn-fuzzy (0.0.8)                        - `sklearn_fuzzy` is a fork from\r\n",
      "                                               `scikit-fuzzy` package with\r\n",
      "                                               sklearn-ish methods.\r\n",
      "neurocombat-sklearn (0.1.3)                  - Harmonizing neuroimaging data\r\n",
      "                                               across sites. Implementation of\r\n",
      "                                               neurocombat using sklearn\r\n",
      "                                               format\r\n",
      "sklearn-lvq (1.1.0)                          - sklearn compatible Generalized\r\n",
      "                                               Learning Vector Quantization\r\n",
      "                                               and Robust Soft Learning Vector\r\n",
      "                                               Quantization implementation\r\n",
      "sklearn (0.0)                                - A set of python modules for\r\n",
      "                                               machine learning and data\r\n",
      "                                               mining\r\n",
      "  INSTALLED: 0.0 (latest)\r\n",
      "keras-sklearn-multihead-classifier (1.2)     - Keras Sklearn Multihead\r\n",
      "                                               Classifier\r\n",
      "sklearn-nature-inspired-algorithms (0.4.6)   - Search using nature inspired\r\n",
      "                                               algorithms over specified\r\n",
      "                                               parameter values for an sklearn\r\n",
      "                                               estimator.\r\n",
      "spark-sklearn (0.3.0)                        - Integration tools for running\r\n",
      "                                               scikit-learn on Spark\r\n",
      "sklearn-pycrfsuite (0.4.0)                   - CRFsuite (python-crfsuite)\r\n",
      "                                               wrapper which provides\r\n",
      "                                               interface simlar to scikit-\r\n",
      "                                               learn\r\n",
      "sklearn-gbmi (1.0.3)                         - Compute Friedman and Popescu's\r\n",
      "                                               H statistics, in order to look\r\n",
      "                                               for interactions among\r\n",
      "                                               variables in scikit-learn\r\n",
      "                                               gradient-boosting models.\r\n",
      "sklearn-rvm (0.1.1)                          - An scikit-learn style\r\n",
      "                                               implementation of Relevance\r\n",
      "                                               Vector Machines (RVM).\r\n",
      "sklearn-deltatfidf (0.3)                     - DeltaTfidfVectorizer for\r\n",
      "                                               scikit-learn\r\n",
      "sklearn-extensions (0.0.2)                   - A bundle of 3rd party\r\n",
      "                                               extensions to scikit-learn\r\n",
      "sklearn-deap (0.2.4)                         - Use evolutionary algorithms\r\n",
      "                                               instead of gridsearch in\r\n",
      "                                               scikit-learn.\r\n",
      "sklearn-dummies (0.3)                        - Scikit-learn label binarizer\r\n",
      "                                               with support for missing values\r\n",
      "sklearn-sfa (0.1.1)                          - A scikit-learn compatible\r\n",
      "                                               implementation of Slow Feature\r\n",
      "                                               Analysis\r\n",
      "sklearn-rri (0.1.0)                          - scikit-learn compatible\r\n",
      "                                               classifier based on RRI\r\n",
      "sklearn-porter (0.7.4)                       - Transpile trained scikit-learn\r\n",
      "                                               models to C, Java, JavaScript\r\n",
      "                                               and others.\r\n",
      "sigopt-sklearn (2.2.0)                       - SigOpt + scikit-learn\r\n",
      "                                               Integrations\r\n",
      "sklearn-crfsuite (0.3.6)                     - CRFsuite (python-crfsuite)\r\n",
      "                                               wrapper which provides\r\n",
      "                                               interface simlar to scikit-\r\n",
      "                                               learn\r\n",
      "auto-sklearn (0.8.0)                         - Automated machine learning.\r\n",
      "sklearn-pmml (0.1.2)                         - A library that allows\r\n",
      "                                               serialization of SciKit-Learn\r\n",
      "                                               estimators into PMML\r\n",
      "sklearn-plus (0.0.5)                         - A set of python modules for\r\n",
      "                                               Natural Language Processing\r\n",
      "sklearn-stub (0.0.3)                         - A template for scikit-learn\r\n",
      "                                               compatible packages\r\n",
      "sklearn-ranking (0.0.1)                      - This package is used for\r\n",
      "                                               recommendation system\r\n",
      "sklearn-lmer (0.0.5)                         - Scikit-learn estimator wrappers\r\n",
      "                                               for pymer4 wrapped LME4 mixed\r\n",
      "                                               effects models\r\n",
      "sklearn-json (0.1.0)                         - A safe, transparent way to\r\n",
      "                                               share and deploy scikit-learn\r\n",
      "                                               models.\r\n",
      "tune-sklearn (0.0.7)                         - An experimental scikit-learn\r\n",
      "                                               API on Tune\r\n",
      "sklearn-evaluation (0.5)                     - scikit-learn model evaluation\r\n",
      "                                               made easy: plots, tables\r\n",
      "                                               andmarkdown reports.\r\n",
      "sklearn-compiledtrees (1.2)                  - Compiled scikit-learn decision\r\n",
      "                                               trees for faster evaluation\r\n",
      "sklearn-genetic (0.2)                        - Genetic feature selection\r\n",
      "                                               module for scikit-learn\r\n",
      "sklearn-deap2 (0.2.2)                        - Use evolutionary algorithms\r\n",
      "                                               instead of gridsearch in\r\n",
      "                                               scikit-learn.\r\n",
      "sklearn-features (0.0.2)                     - Helpful tools for building\r\n",
      "                                               feature extraction pipelines\r\n",
      "                                               with scikit-learn\r\n",
      "sklearn-template (0.0.3)                     - A template for scikit-learn\r\n",
      "                                               compatible packages\r\n",
      "sklearn-relief (1.0.0b2)                     - Implementation of the Relief\r\n",
      "                                               family of algorithms for\r\n",
      "                                               feature ranking\r\n",
      "sklearn-cv-pandas (0.0.2)                    - RandomizedSearchCV/GridSearchCV\r\n",
      "                                               with pandas.DataFrame interface\r\n",
      "sklearn-sequence-classifiers (0.2)           - Sequence classifiers for\r\n",
      "                                               scikit-learn\r\n",
      "sklearn-contrib-lightning (0.5.0)            - Large-scale sparse linear\r\n",
      "                                               classification, regression and\r\n",
      "                                               ranking in Python\r\n",
      "sklearn-to-pfa (0.3.10)                      - Convert scikit-learn models to\r\n",
      "                                               PFA\r\n",
      "sklearn-neuro-evolution (1.0.0)              - scikit-learn compatible package\r\n",
      "                                               for neuro evolution.\r\n",
      "sklearn-text-extensions (1.0.0)              - Scikit-learn compatible text\r\n",
      "                                               feature extraction extensions\r\n",
      "sklearn-hierarchical-classification (1.3.2)  - Hierarchical classification\r\n",
      "                                               interface extensions for\r\n",
      "                                               scikit-learn\r\n",
      "sklearn-pmml-model (0.0.15)                  - A library to parse PMML models\r\n",
      "                                               into Scikit-learn estimators.\r\n",
      "sklearn-utils-turtle (0.4.1)                 - \r\n",
      "featuretools-sklearn-transformer (0.1.1)     - Featuretools Transformer for\r\n",
      "                                               Scikit-Learn Pipeline use.\r\n",
      "algomize (0.1.0)                             - Optimizers for sklearn\r\n",
      "sklearn_utils (0.0.15)                       - Sklearn utils\r\n",
      "apollo-ml (0.3)                              - sklearn wrapper\r\n",
      "sklearn-contrib-py-earth (0.1.0)             - A Python implementation of\r\n",
      "                                               Jerome Friedman's Multivariate\r\n",
      "                                               Adaptive Regression Splines.\r\n",
      "sktools (0.1.3)                              - Tools to extend sklearn\r\n",
      "hpsklearn (0.1.0)                            - Hyperparameter Optimization for\r\n",
      "                                               sklearn\r\n",
      "persimmon (0.9.1.post2)                      - A visual dataflow language for\r\n",
      "                                               sklearn\r\n",
      "hunga-bunga (0.1)                            - Brute-Force All of sklearn!\r\n",
      "skippy (0.1.0)                               - Simplified analysis of sklearn\r\n",
      "                                               datasets\r\n",
      "jaradtransformers (0.1.4)                    - Custom transformers for SKLearn\r\n",
      "                                               pipelines\r\n",
      "pandas-ex (0.0.1)                            - self defined functions for\r\n",
      "                                               sklearn\r\n",
      "incremental-trees (0.4.0)                    - Sklearn forests with partial\r\n",
      "                                               fits\r\n",
      "salure-preprocessors (0.0.1)                 - Contains some more SKLearn\r\n",
      "                                               Preprocessors\r\n",
      "scikit2pmml (0.0.2)                          - Simple exporter of sklearn\r\n",
      "                                               models into PMML.\r\n",
      "ackeras (0.1.1)                              - Simple wrapper around Sklearn\r\n",
      "                                               and Autokeras\r\n",
      "fasttrees (1.2.5)                            - A fast and frugal tree\r\n",
      "                                               classifier for sklearn\r\n",
      "pandas-transformers (0.2.3)                  - Use pandas dataframes in\r\n",
      "                                               sklearn pipelines\r\n",
      "pipelinetweak (0.5.0)                        - additional wrapper classes for\r\n",
      "                                               the sklearn API\r\n",
      "fagroupa (0.28)                              - Try many sklearn algorithms in\r\n",
      "                                               no time!\r\n",
      "datefeatures (0.2.0)                         - Feature engineering sklearn\r\n",
      "                                               transformer for dates\r\n",
      "pdtransform (0.2)                            - Sklearn transformers that work\r\n",
      "                                               with Pandas dataframes\r\n",
      "scikit-learn-pipeline-utils (0.0.7)          - Custom Pipeline Transformers\r\n",
      "                                               for Sklearn Pipelines\r\n",
      "ParametricModeling (0.1.9)                   - An Sklearn interface around\r\n",
      "                                               scipy.optimize.least_squares\r\n",
      "                                               for parametric modeling\r\n",
      "embeddingvectorizer (0.03)                   - Sklearn vectorizers using word\r\n",
      "                                               embedding model\r\n",
      "ksvmlib (0.0.3)                              - Kernel SVM library based on\r\n",
      "                                               sklearn and GPlib.\r\n",
      "stemtokenizer (0.1)                          - Adding stemming functionality\r\n",
      "                                               to Sklearn text vectorizers.\r\n",
      "chainlearn (0.0.2.dev0)                      - chainlearn: A sprinkle of\r\n",
      "                                               syntax sugar for pandas/sklearn\r\n",
      "jax-random-projections (1.0.1)               - sklearn's random projection\r\n",
      "                                               with JAX to run on a GPU\r\n",
      "too-short (1.1)                              - Module to simplify supervised\r\n",
      "                                               ml work with sklearn\r\n",
      "optiml (0.0.7)                               - Optimizers for/and sklearn\r\n",
      "                                               compatible Machine Learning\r\n",
      "                                               models\r\n",
      "candle (0.0.1)                               - a machine learning scaffolding\r\n",
      "                                               tool based on sklearn\r\n",
      "rotation-forest (0.4)                        - Sklearn style implementation of\r\n",
      "                                               the Rotation Forest Algorithm\r\n",
      "majorityvoting (0.1.5)                       - Majority Judgement Voting tool\r\n",
      "                                               (fit for sklearn, etc.)\r\n",
      "cquai-ml (1.0.7)                             - Implement machine learning\r\n",
      "                                               algorithms with python without\r\n",
      "                                               sklearn.\r\n",
      "quickregress (0.1.2)                         - Provides a low-effort wrapper\r\n",
      "                                               for sklearn's polynomial\r\n",
      "                                               regression\r\n",
      "cvextend (0.2.1)                             - Tools to extend sklearn's\r\n",
      "                                               cross-validation classes and\r\n",
      "                                               functions\r\n",
      "category-encoders (2.2.2)                    - A collection sklearn\r\n",
      "                                               transformers to encode\r\n",
      "                                               categorical variables as\r\n",
      "                                               numeric\r\n",
      "lazyml (0.0.1)                               - Train and Test your data on\r\n",
      "                                               multiple sklearn models!\r\n",
      "sklearn2vantage (0.1.9)                      - Module for converting sklearn\r\n",
      "                                               model to Teradata Vantage model\r\n",
      "binary-to-string (0.1)                       - This package transforms bytes\r\n",
      "                                               into a string to integrate to a\r\n",
      "                                               sklearn Pipeline\r\n",
      "sklearn_pipeline_utils (0.11)                - custom transformers for sklearn\r\n",
      "                                               pipeline to make life easier\r\n",
      "ml4bio (0.1.3)                               - A graphical interface for\r\n",
      "                                               sklearn classification to\r\n",
      "                                               introduce machine learning to\r\n",
      "                                               biologists\r\n",
      "atnlp (0.0.11)                               - A tool for natural language\r\n",
      "                                               processing in python based on\r\n",
      "                                               scipy and sklearn\r\n",
      "ubergauss (0.0.6)                            - sklearn clustering,\r\n",
      "                                               betweenGaussian and diagonal-\r\n",
      "                                               max-dist kneepoint detection\r\n",
      "micromlgen (1.1.8)                           - Generate C code for\r\n",
      "                                               microcontrollers from Python's\r\n",
      "                                               sklearn classifiers\r\n",
      "skql (0.0.1)                                 - Converts SKlearn python model\r\n",
      "                                               objects into SQL query\r\n",
      "                                               snippets.\r\n"
     ]
    }
   ],
   "source": [
    "!pip3 search sklearn\n"
   ]
  },
  {
   "cell_type": "code",
   "execution_count": 8,
   "metadata": {},
   "outputs": [],
   "source": [
    "from sklearn.linear_model import LinearRegression\n"
   ]
  },
  {
   "cell_type": "code",
   "execution_count": 9,
   "metadata": {},
   "outputs": [],
   "source": [
    "import sklearn\n",
    "\n"
   ]
  },
  {
   "cell_type": "code",
   "execution_count": 10,
   "metadata": {},
   "outputs": [
    {
     "name": "stdout",
     "output_type": "stream",
     "text": [
      "/usr/bin/python3\r\n"
     ]
    }
   ],
   "source": [
    "!which python3"
   ]
  },
  {
   "cell_type": "code",
   "execution_count": 12,
   "metadata": {},
   "outputs": [
    {
     "name": "stdout",
     "output_type": "stream",
     "text": [
      "Initialized empty Git repository in /home/ganesh_singh/Desktop/Ganesh-projects/Machine-learning/Linear-regression/.git/\r\n"
     ]
    }
   ],
   "source": [
    "!git init"
   ]
  },
  {
   "cell_type": "code",
   "execution_count": 13,
   "metadata": {},
   "outputs": [],
   "source": [
    "!git remote"
   ]
  },
  {
   "cell_type": "code",
   "execution_count": 14,
   "metadata": {},
   "outputs": [
    {
     "name": "stdout",
     "output_type": "stream",
     "text": [
      "On branch master\r\n",
      "\r\n",
      "No commits yet\r\n",
      "\r\n",
      "Untracked files:\r\n",
      "  (use \"git add <file>...\" to include in what will be committed)\r\n",
      "\r\n",
      "\t\u001b[31m.ipynb_checkpoints/\u001b[m\r\n",
      "\t\u001b[31mlinear-regression.ipynb\u001b[m\r\n",
      "\t\u001b[31mlinear_main.py\u001b[m\r\n",
      "\t\u001b[31mtest_dataset.csv\u001b[m\r\n",
      "\t\u001b[31mtraining_dataset.csv\u001b[m\r\n",
      "\r\n",
      "nothing added to commit but untracked files present (use \"git add\" to track)\r\n"
     ]
    }
   ],
   "source": [
    "!git status"
   ]
  },
  {
   "cell_type": "code",
   "execution_count": null,
   "metadata": {},
   "outputs": [],
   "source": []
  }
 ],
 "metadata": {
  "kernelspec": {
   "display_name": "Python 3",
   "language": "python",
   "name": "python3"
  },
  "language_info": {
   "codemirror_mode": {
    "name": "ipython",
    "version": 3
   },
   "file_extension": ".py",
   "mimetype": "text/x-python",
   "name": "python",
   "nbconvert_exporter": "python",
   "pygments_lexer": "ipython3",
   "version": "3.6.9"
  }
 },
 "nbformat": 4,
 "nbformat_minor": 2
}
